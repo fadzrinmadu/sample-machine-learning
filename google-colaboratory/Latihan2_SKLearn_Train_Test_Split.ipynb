{
  "nbformat": 4,
  "nbformat_minor": 0,
  "metadata": {
    "colab": {
      "name": "Latihan2-SKLearn Train Test Split.ipynb",
      "provenance": [],
      "collapsed_sections": []
    },
    "kernelspec": {
      "name": "python3",
      "display_name": "Python 3"
    },
    "language_info": {
      "name": "python"
    }
  },
  "cells": [
    {
      "cell_type": "code",
      "metadata": {
        "colab": {
          "base_uri": "https://localhost:8080/"
        },
        "id": "1A6teFi54_69",
        "outputId": "3c85c65e-0d4a-43a5-b666-24f20a1b1384"
      },
      "source": [
        "import sklearn\n",
        "from sklearn import datasets\n",
        "from sklearn.model_selection import train_test_split\n",
        "\n",
        "# load iris dataset\n",
        "iris = datasets.load_iris()\n",
        "\n",
        "# pisahkan atribut dan label pada iris dataset\n",
        "x = iris.data\n",
        "y = iris.target\n",
        "\n",
        "# membagi dataset menjadi training dan testing \n",
        "x_train, x_test, y_train, y_test = train_test_split(x, y, test_size=0.2)\n",
        "\n",
        "# menghitung panjang/jumlah data pada x_test\n",
        "len(x_test)"
      ],
      "execution_count": 1,
      "outputs": [
        {
          "output_type": "execute_result",
          "data": {
            "text/plain": [
              "30"
            ]
          },
          "metadata": {
            "tags": []
          },
          "execution_count": 1
        }
      ]
    }
  ]
}